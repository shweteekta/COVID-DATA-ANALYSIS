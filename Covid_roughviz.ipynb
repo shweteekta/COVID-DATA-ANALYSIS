{
  "nbformat": 4,
  "nbformat_minor": 0,
  "metadata": {
    "kernelspec": {
      "display_name": "Python 3.6",
      "language": "python",
      "name": "python3"
    },
    "language_info": {
      "codemirror_mode": {
        "name": "ipython",
        "version": 3
      },
      "file_extension": ".py",
      "mimetype": "text/x-python",
      "name": "python",
      "nbconvert_exporter": "python",
      "pygments_lexer": "ipython3",
      "version": "3.6.8"
    },
    "colab": {
      "name": "Covid_roughviz.ipynb",
      "provenance": []
    }
  },
  "cells": [
    {
      "cell_type": "markdown",
      "metadata": {
        "id": "o2DqzmaYL0Bi",
        "colab_type": "text"
      },
      "source": [
        "# INSTALL"
      ]
    },
    {
      "cell_type": "code",
      "metadata": {
        "id": "VdvXTNNlL0Bm",
        "colab_type": "code",
        "outputId": "7044d901-f474-4dc8-9990-294026333bec",
        "colab": {
          "base_uri": "https://localhost:8080/",
          "height": 150
        }
      },
      "source": [
        "!pip install roughviz"
      ],
      "execution_count": 100,
      "outputs": [
        {
          "output_type": "stream",
          "text": [
            "Requirement already satisfied: roughviz in /usr/local/lib/python3.6/dist-packages (4.7.0)\n",
            "Requirement already satisfied: pandas in /usr/local/lib/python3.6/dist-packages (from roughviz) (1.0.3)\n",
            "Requirement already satisfied: Jinja2 in /usr/local/lib/python3.6/dist-packages (from roughviz) (2.11.2)\n",
            "Requirement already satisfied: numpy>=1.13.3 in /usr/local/lib/python3.6/dist-packages (from pandas->roughviz) (1.18.4)\n",
            "Requirement already satisfied: python-dateutil>=2.6.1 in /usr/local/lib/python3.6/dist-packages (from pandas->roughviz) (2.8.1)\n",
            "Requirement already satisfied: pytz>=2017.2 in /usr/local/lib/python3.6/dist-packages (from pandas->roughviz) (2018.9)\n",
            "Requirement already satisfied: MarkupSafe>=0.23 in /usr/local/lib/python3.6/dist-packages (from Jinja2->roughviz) (1.1.1)\n",
            "Requirement already satisfied: six>=1.5 in /usr/local/lib/python3.6/dist-packages (from python-dateutil>=2.6.1->pandas->roughviz) (1.12.0)\n"
          ],
          "name": "stdout"
        }
      ]
    },
    {
      "cell_type": "markdown",
      "metadata": {
        "id": "OO2no8AHL0Bx",
        "colab_type": "text"
      },
      "source": [
        "# IMPORT"
      ]
    },
    {
      "cell_type": "code",
      "metadata": {
        "id": "IodDU-tjL0By",
        "colab_type": "code",
        "colab": {}
      },
      "source": [
        "import roughviz"
      ],
      "execution_count": 0,
      "outputs": []
    },
    {
      "cell_type": "code",
      "metadata": {
        "id": "0Z5O8UHa7ZWq",
        "colab_type": "code",
        "outputId": "b10c817d-79f2-4ff4-e69b-145f978502b7",
        "colab": {
          "base_uri": "https://localhost:8080/",
          "height": 201
        }
      },
      "source": [
        "!wget -O data.csv https://raw.githubusercontent.com/datasets/covid-19/master/data/countries-aggregated.csv"
      ],
      "execution_count": 102,
      "outputs": [
        {
          "output_type": "stream",
          "text": [
            "--2020-05-26 14:34:05--  https://raw.githubusercontent.com/datasets/covid-19/master/data/countries-aggregated.csv\n",
            "Resolving raw.githubusercontent.com (raw.githubusercontent.com)... 151.101.0.133, 151.101.64.133, 151.101.128.133, ...\n",
            "Connecting to raw.githubusercontent.com (raw.githubusercontent.com)|151.101.0.133|:443... connected.\n",
            "HTTP request sent, awaiting response... 200 OK\n",
            "Length: 706445 (690K) [text/plain]\n",
            "Saving to: ‘data.csv’\n",
            "\n",
            "\rdata.csv              0%[                    ]       0  --.-KB/s               \rdata.csv            100%[===================>] 689.89K  --.-KB/s    in 0.1s    \n",
            "\n",
            "2020-05-26 14:34:05 (6.75 MB/s) - ‘data.csv’ saved [706445/706445]\n",
            "\n"
          ],
          "name": "stdout"
        }
      ]
    },
    {
      "cell_type": "code",
      "metadata": {
        "id": "WiOtUD5cMLqh",
        "colab_type": "code",
        "colab": {}
      },
      "source": [
        "import pandas as pd \n"
      ],
      "execution_count": 0,
      "outputs": []
    },
    {
      "cell_type": "code",
      "metadata": {
        "id": "d2Em-BU47jCZ",
        "colab_type": "code",
        "colab": {}
      },
      "source": [
        "df=pd.read_csv(\"data.csv\")"
      ],
      "execution_count": 0,
      "outputs": []
    },
    {
      "cell_type": "code",
      "metadata": {
        "id": "4z8Xqvzb7oyZ",
        "colab_type": "code",
        "outputId": "b3eab308-16cb-4317-c21d-0c41893c5b5e",
        "colab": {
          "base_uri": "https://localhost:8080/",
          "height": 196
        }
      },
      "source": [
        "df.head()"
      ],
      "execution_count": 176,
      "outputs": [
        {
          "output_type": "execute_result",
          "data": {
            "text/html": [
              "<div>\n",
              "<style scoped>\n",
              "    .dataframe tbody tr th:only-of-type {\n",
              "        vertical-align: middle;\n",
              "    }\n",
              "\n",
              "    .dataframe tbody tr th {\n",
              "        vertical-align: top;\n",
              "    }\n",
              "\n",
              "    .dataframe thead th {\n",
              "        text-align: right;\n",
              "    }\n",
              "</style>\n",
              "<table border=\"1\" class=\"dataframe\">\n",
              "  <thead>\n",
              "    <tr style=\"text-align: right;\">\n",
              "      <th></th>\n",
              "      <th>Date</th>\n",
              "      <th>Country</th>\n",
              "      <th>Confirmed</th>\n",
              "      <th>Recovered</th>\n",
              "      <th>Deaths</th>\n",
              "    </tr>\n",
              "  </thead>\n",
              "  <tbody>\n",
              "    <tr>\n",
              "      <th>0</th>\n",
              "      <td>2020-01-22</td>\n",
              "      <td>Afghanistan</td>\n",
              "      <td>0</td>\n",
              "      <td>0</td>\n",
              "      <td>0</td>\n",
              "    </tr>\n",
              "    <tr>\n",
              "      <th>1</th>\n",
              "      <td>2020-01-22</td>\n",
              "      <td>Albania</td>\n",
              "      <td>0</td>\n",
              "      <td>0</td>\n",
              "      <td>0</td>\n",
              "    </tr>\n",
              "    <tr>\n",
              "      <th>2</th>\n",
              "      <td>2020-01-22</td>\n",
              "      <td>Algeria</td>\n",
              "      <td>0</td>\n",
              "      <td>0</td>\n",
              "      <td>0</td>\n",
              "    </tr>\n",
              "    <tr>\n",
              "      <th>3</th>\n",
              "      <td>2020-01-22</td>\n",
              "      <td>Andorra</td>\n",
              "      <td>0</td>\n",
              "      <td>0</td>\n",
              "      <td>0</td>\n",
              "    </tr>\n",
              "    <tr>\n",
              "      <th>4</th>\n",
              "      <td>2020-01-22</td>\n",
              "      <td>Angola</td>\n",
              "      <td>0</td>\n",
              "      <td>0</td>\n",
              "      <td>0</td>\n",
              "    </tr>\n",
              "  </tbody>\n",
              "</table>\n",
              "</div>"
            ],
            "text/plain": [
              "         Date      Country  Confirmed  Recovered  Deaths\n",
              "0  2020-01-22  Afghanistan          0          0       0\n",
              "1  2020-01-22      Albania          0          0       0\n",
              "2  2020-01-22      Algeria          0          0       0\n",
              "3  2020-01-22      Andorra          0          0       0\n",
              "4  2020-01-22       Angola          0          0       0"
            ]
          },
          "metadata": {
            "tags": []
          },
          "execution_count": 176
        }
      ]
    },
    {
      "cell_type": "code",
      "metadata": {
        "id": "JkgCuGK17zby",
        "colab_type": "code",
        "colab": {}
      },
      "source": [
        "df.sort_values(\"Confirmed\", axis = 0, ascending = False, \n",
        "                 inplace = True, na_position ='last') "
      ],
      "execution_count": 0,
      "outputs": []
    },
    {
      "cell_type": "code",
      "metadata": {
        "id": "GrKzEvX-8TbG",
        "colab_type": "code",
        "colab": {}
      },
      "source": [
        "df['month'] = pd.DatetimeIndex(df['Date']).month\n",
        "df['day'] = pd.DatetimeIndex(df['Date']).day"
      ],
      "execution_count": 0,
      "outputs": []
    },
    {
      "cell_type": "code",
      "metadata": {
        "id": "QxsP2x7MTaz1",
        "colab_type": "code",
        "colab": {}
      },
      "source": [
        "df_india = df[df['Country'] == 'India']\n"
      ],
      "execution_count": 0,
      "outputs": []
    },
    {
      "cell_type": "code",
      "metadata": {
        "id": "g307VEeBylro",
        "colab_type": "code",
        "colab": {
          "base_uri": "https://localhost:8080/",
          "height": 404
        },
        "outputId": "e7d317ac-fbd4-4c89-f407-8eaccbfbab83"
      },
      "source": [
        "df_india"
      ],
      "execution_count": 178,
      "outputs": [
        {
          "output_type": "execute_result",
          "data": {
            "text/html": [
              "<div>\n",
              "<style scoped>\n",
              "    .dataframe tbody tr th:only-of-type {\n",
              "        vertical-align: middle;\n",
              "    }\n",
              "\n",
              "    .dataframe tbody tr th {\n",
              "        vertical-align: top;\n",
              "    }\n",
              "\n",
              "    .dataframe thead th {\n",
              "        text-align: right;\n",
              "    }\n",
              "</style>\n",
              "<table border=\"1\" class=\"dataframe\">\n",
              "  <thead>\n",
              "    <tr style=\"text-align: right;\">\n",
              "      <th></th>\n",
              "      <th>Date</th>\n",
              "      <th>Country</th>\n",
              "      <th>Confirmed</th>\n",
              "      <th>Recovered</th>\n",
              "      <th>Deaths</th>\n",
              "      <th>year</th>\n",
              "      <th>month</th>\n",
              "      <th>day</th>\n",
              "    </tr>\n",
              "  </thead>\n",
              "  <tbody>\n",
              "    <tr>\n",
              "      <th>23391</th>\n",
              "      <td>2020-05-25</td>\n",
              "      <td>India</td>\n",
              "      <td>144950</td>\n",
              "      <td>60706</td>\n",
              "      <td>4172</td>\n",
              "      <td>2020</td>\n",
              "      <td>5</td>\n",
              "      <td>25</td>\n",
              "    </tr>\n",
              "    <tr>\n",
              "      <th>23203</th>\n",
              "      <td>2020-05-24</td>\n",
              "      <td>India</td>\n",
              "      <td>138536</td>\n",
              "      <td>57692</td>\n",
              "      <td>4024</td>\n",
              "      <td>2020</td>\n",
              "      <td>5</td>\n",
              "      <td>24</td>\n",
              "    </tr>\n",
              "    <tr>\n",
              "      <th>23015</th>\n",
              "      <td>2020-05-23</td>\n",
              "      <td>India</td>\n",
              "      <td>131423</td>\n",
              "      <td>54385</td>\n",
              "      <td>3868</td>\n",
              "      <td>2020</td>\n",
              "      <td>5</td>\n",
              "      <td>23</td>\n",
              "    </tr>\n",
              "    <tr>\n",
              "      <th>22827</th>\n",
              "      <td>2020-05-22</td>\n",
              "      <td>India</td>\n",
              "      <td>124794</td>\n",
              "      <td>51824</td>\n",
              "      <td>3726</td>\n",
              "      <td>2020</td>\n",
              "      <td>5</td>\n",
              "      <td>22</td>\n",
              "    </tr>\n",
              "    <tr>\n",
              "      <th>22639</th>\n",
              "      <td>2020-05-21</td>\n",
              "      <td>India</td>\n",
              "      <td>118226</td>\n",
              "      <td>48553</td>\n",
              "      <td>3584</td>\n",
              "      <td>2020</td>\n",
              "      <td>5</td>\n",
              "      <td>21</td>\n",
              "    </tr>\n",
              "    <tr>\n",
              "      <th>...</th>\n",
              "      <td>...</td>\n",
              "      <td>...</td>\n",
              "      <td>...</td>\n",
              "      <td>...</td>\n",
              "      <td>...</td>\n",
              "      <td>...</td>\n",
              "      <td>...</td>\n",
              "      <td>...</td>\n",
              "    </tr>\n",
              "    <tr>\n",
              "      <th>643</th>\n",
              "      <td>2020-01-25</td>\n",
              "      <td>India</td>\n",
              "      <td>0</td>\n",
              "      <td>0</td>\n",
              "      <td>0</td>\n",
              "      <td>2020</td>\n",
              "      <td>1</td>\n",
              "      <td>25</td>\n",
              "    </tr>\n",
              "    <tr>\n",
              "      <th>1019</th>\n",
              "      <td>2020-01-27</td>\n",
              "      <td>India</td>\n",
              "      <td>0</td>\n",
              "      <td>0</td>\n",
              "      <td>0</td>\n",
              "      <td>2020</td>\n",
              "      <td>1</td>\n",
              "      <td>27</td>\n",
              "    </tr>\n",
              "    <tr>\n",
              "      <th>831</th>\n",
              "      <td>2020-01-26</td>\n",
              "      <td>India</td>\n",
              "      <td>0</td>\n",
              "      <td>0</td>\n",
              "      <td>0</td>\n",
              "      <td>2020</td>\n",
              "      <td>1</td>\n",
              "      <td>26</td>\n",
              "    </tr>\n",
              "    <tr>\n",
              "      <th>1207</th>\n",
              "      <td>2020-01-28</td>\n",
              "      <td>India</td>\n",
              "      <td>0</td>\n",
              "      <td>0</td>\n",
              "      <td>0</td>\n",
              "      <td>2020</td>\n",
              "      <td>1</td>\n",
              "      <td>28</td>\n",
              "    </tr>\n",
              "    <tr>\n",
              "      <th>455</th>\n",
              "      <td>2020-01-24</td>\n",
              "      <td>India</td>\n",
              "      <td>0</td>\n",
              "      <td>0</td>\n",
              "      <td>0</td>\n",
              "      <td>2020</td>\n",
              "      <td>1</td>\n",
              "      <td>24</td>\n",
              "    </tr>\n",
              "  </tbody>\n",
              "</table>\n",
              "<p>125 rows × 8 columns</p>\n",
              "</div>"
            ],
            "text/plain": [
              "             Date Country  Confirmed  Recovered  Deaths  year  month  day\n",
              "23391  2020-05-25   India     144950      60706    4172  2020      5   25\n",
              "23203  2020-05-24   India     138536      57692    4024  2020      5   24\n",
              "23015  2020-05-23   India     131423      54385    3868  2020      5   23\n",
              "22827  2020-05-22   India     124794      51824    3726  2020      5   22\n",
              "22639  2020-05-21   India     118226      48553    3584  2020      5   21\n",
              "...           ...     ...        ...        ...     ...   ...    ...  ...\n",
              "643    2020-01-25   India          0          0       0  2020      1   25\n",
              "1019   2020-01-27   India          0          0       0  2020      1   27\n",
              "831    2020-01-26   India          0          0       0  2020      1   26\n",
              "1207   2020-01-28   India          0          0       0  2020      1   28\n",
              "455    2020-01-24   India          0          0       0  2020      1   24\n",
              "\n",
              "[125 rows x 8 columns]"
            ]
          },
          "metadata": {
            "tags": []
          },
          "execution_count": 178
        }
      ]
    },
    {
      "cell_type": "code",
      "metadata": {
        "id": "cvPwaSQ9dmvS",
        "colab_type": "code",
        "colab": {}
      },
      "source": [
        ""
      ],
      "execution_count": 0,
      "outputs": []
    },
    {
      "cell_type": "markdown",
      "metadata": {
        "id": "lpqUW0vmqCNY",
        "colab_type": "text"
      },
      "source": [
        "### BAR PLOT"
      ]
    },
    {
      "cell_type": "code",
      "metadata": {
        "id": "QL90rINvdGYD",
        "colab_type": "code",
        "colab": {
          "base_uri": "https://localhost:8080/",
          "height": 397
        },
        "outputId": "bd0dd365-1570-4cb5-98f2-2333cc84c714"
      },
      "source": [
        "df_day=df_india[df_india['month']==5]\n",
        "roughviz.bar(df_day['day'],df_day['Confirmed'], axisRoughness = 0.7, axisStrokeWidth = 0.7, roughness=2.3, highlight=\"gray\")"
      ],
      "execution_count": 129,
      "outputs": [
        {
          "output_type": "display_data",
          "data": {
            "text/html": [
              "<html>\n",
              "<body>\n",
              "\n",
              "<div id=\"bqyfxhikxl\"></div>\n",
              "\n",
              "<script src=\"https://requirejs.org/docs/release/2.3.6/minified/require.js\"></script>\n",
              "<script>\n",
              "require.config({paths: {roughViz: \"https://unpkg.com/rough-viz@1.0.5/dist/roughviz.min\"}});\n",
              "require([\"roughViz\"], function(roughViz) {\n",
              "\n",
              "new roughViz.Bar(\n",
              "  {\n",
              "    element: \"#\".concat(\"bqyfxhikxl\"),\n",
              "    data: {\n",
              "      labels: [25, 24, 23, 22, 21, 20, 19, 18, 17, 16, 15, 14, 13, 12, 11, 10, 9, 8, 7, 6, 5, 4, 3, 2, 1],\n",
              "      values: [144950, 138536, 131423, 124794, 118226, 112028, 106475, 100328, 95698, 90648, 85784, 81997, 78055, 74292, 70768, 67161, 62808, 59695, 56351, 52987, 49400, 46437, 42505, 39699, 37257]\n",
              "    },\n",
              "\taxisFontSize: \"1.5rem\",\n",
              "\taxisRoughness: 0.7,\n",
              "\taxisStrokeWidth: 0.7,\n",
              "\tbowing: 0,\n",
              "\tcolor: \"skyblue\",\n",
              "\tfillStyle: \"cross-hatch\",\n",
              "\tfillWeight: 0,\n",
              "\tfont: 0,\n",
              "\thighlight: \"gray\",\n",
              "\tinnerStrokeWidth: 0,\n",
              "\tlabelFontSize: \"2rem\",\n",
              "\tpadding: 0.1,\n",
              "\troughness: 2.3,\n",
              "\tsimplification: 0.2,\n",
              "\tstroke: \"black\",\n",
              "\tstrokeWidth: 1,\n",
              "\ttitle: \"\",\n",
              "\ttitleFontSize: \"3rem\",\n",
              "\ttooltipFontSize: \"3rem\",\n",
              "\txLabel: \"\",\n",
              "\tyLabel: \"\",\n",
              "\theight: 400,\n",
              "\twidth: 700,\n",
              "\tinteractive: true\n",
              "  }\n",
              ");\n",
              "\tvar text = document.querySelectorAll(\".xAxisbqyfxhikxl .tick text\");\n",
              "\tvar i;\n",
              "\tfor (i = 0; i < text.length; i++) {\n",
              "\t\ttext[i].setAttribute(\"transform\", \"rotate(0)\");\n",
              "\t\ttext[i].style.textAnchor=\"middle\";\n",
              "\t}\n",
              "\tdocument.getElementById(\"bqyfxhikxl\").style.height = \"380px\";\n",
              "\tdocument.querySelector(\"#bqyfxhikxl svg\").style.height = \"380px\";\n",
              "});\n",
              "</script>\n",
              "\n",
              "</body>\n",
              "</html>"
            ],
            "text/plain": [
              "<IPython.core.display.HTML object>"
            ]
          },
          "metadata": {
            "tags": []
          }
        }
      ]
    },
    {
      "cell_type": "code",
      "metadata": {
        "id": "POO_RJR-dYda",
        "colab_type": "code",
        "colab": {
          "base_uri": "https://localhost:8080/",
          "height": 196
        },
        "outputId": "23d44f0b-b573-4fe7-f87f-e5e2fe7a1ddf"
      },
      "source": [
        "df_india.head()"
      ],
      "execution_count": 124,
      "outputs": [
        {
          "output_type": "execute_result",
          "data": {
            "text/html": [
              "<div>\n",
              "<style scoped>\n",
              "    .dataframe tbody tr th:only-of-type {\n",
              "        vertical-align: middle;\n",
              "    }\n",
              "\n",
              "    .dataframe tbody tr th {\n",
              "        vertical-align: top;\n",
              "    }\n",
              "\n",
              "    .dataframe thead th {\n",
              "        text-align: right;\n",
              "    }\n",
              "</style>\n",
              "<table border=\"1\" class=\"dataframe\">\n",
              "  <thead>\n",
              "    <tr style=\"text-align: right;\">\n",
              "      <th></th>\n",
              "      <th>Date</th>\n",
              "      <th>Country</th>\n",
              "      <th>Confirmed</th>\n",
              "      <th>Recovered</th>\n",
              "      <th>Deaths</th>\n",
              "      <th>year</th>\n",
              "      <th>month</th>\n",
              "      <th>day</th>\n",
              "    </tr>\n",
              "  </thead>\n",
              "  <tbody>\n",
              "    <tr>\n",
              "      <th>23391</th>\n",
              "      <td>2020-05-25</td>\n",
              "      <td>India</td>\n",
              "      <td>144950</td>\n",
              "      <td>60706</td>\n",
              "      <td>4172</td>\n",
              "      <td>2020</td>\n",
              "      <td>5</td>\n",
              "      <td>25</td>\n",
              "    </tr>\n",
              "    <tr>\n",
              "      <th>23203</th>\n",
              "      <td>2020-05-24</td>\n",
              "      <td>India</td>\n",
              "      <td>138536</td>\n",
              "      <td>57692</td>\n",
              "      <td>4024</td>\n",
              "      <td>2020</td>\n",
              "      <td>5</td>\n",
              "      <td>24</td>\n",
              "    </tr>\n",
              "    <tr>\n",
              "      <th>23015</th>\n",
              "      <td>2020-05-23</td>\n",
              "      <td>India</td>\n",
              "      <td>131423</td>\n",
              "      <td>54385</td>\n",
              "      <td>3868</td>\n",
              "      <td>2020</td>\n",
              "      <td>5</td>\n",
              "      <td>23</td>\n",
              "    </tr>\n",
              "    <tr>\n",
              "      <th>22827</th>\n",
              "      <td>2020-05-22</td>\n",
              "      <td>India</td>\n",
              "      <td>124794</td>\n",
              "      <td>51824</td>\n",
              "      <td>3726</td>\n",
              "      <td>2020</td>\n",
              "      <td>5</td>\n",
              "      <td>22</td>\n",
              "    </tr>\n",
              "    <tr>\n",
              "      <th>22639</th>\n",
              "      <td>2020-05-21</td>\n",
              "      <td>India</td>\n",
              "      <td>118226</td>\n",
              "      <td>48553</td>\n",
              "      <td>3584</td>\n",
              "      <td>2020</td>\n",
              "      <td>5</td>\n",
              "      <td>21</td>\n",
              "    </tr>\n",
              "  </tbody>\n",
              "</table>\n",
              "</div>"
            ],
            "text/plain": [
              "             Date Country  Confirmed  Recovered  Deaths  year  month  day\n",
              "23391  2020-05-25   India     144950      60706    4172  2020      5   25\n",
              "23203  2020-05-24   India     138536      57692    4024  2020      5   24\n",
              "23015  2020-05-23   India     131423      54385    3868  2020      5   23\n",
              "22827  2020-05-22   India     124794      51824    3726  2020      5   22\n",
              "22639  2020-05-21   India     118226      48553    3584  2020      5   21"
            ]
          },
          "metadata": {
            "tags": []
          },
          "execution_count": 124
        }
      ]
    },
    {
      "cell_type": "markdown",
      "metadata": {
        "id": "hEbTYBf5qGq3",
        "colab_type": "text"
      },
      "source": [
        "### HORIZONTAL BAR PLOT"
      ]
    },
    {
      "cell_type": "code",
      "metadata": {
        "id": "aVeE6k6wezuV",
        "colab_type": "code",
        "colab": {
          "base_uri": "https://localhost:8080/",
          "height": 397
        },
        "outputId": "10100c4e-3b73-4811-d4c6-0633c84a5be7"
      },
      "source": [
        "list_countries = ['India', 'China', 'US', 'Italy', 'Spain']\n",
        "list_dates = df['Date'].unique()\n",
        "\n",
        "df2 = df[df['month'].eq(5)]\n",
        "# Only take Confirmed column in descending order\n",
        "df3 = df2.sort_values(by = 'Confirmed', ascending = False)\n",
        "# Select the top 5 Confirmed countries\n",
        "df4 = df3[df3['Country'].isin(list_countries)]\n",
        "roughviz.barh(df4[\"Country\"], df4[\"Confirmed\"], axisRoughness = 0.7, axisStrokeWidth = 1.5, roughness=0.5, color=\"pink\",highlight=\"gray\")"
      ],
      "execution_count": 149,
      "outputs": [
        {
          "output_type": "display_data",
          "data": {
            "text/html": [
              "<html>\n",
              "<body>\n",
              "\n",
              "<div id=\"egsoaaitjp\"></div>\n",
              "\n",
              "<script src=\"https://requirejs.org/docs/release/2.3.6/minified/require.js\"></script>\n",
              "<script>\n",
              "require.config({paths: {roughViz: \"https://unpkg.com/rough-viz@1.0.5/dist/roughviz.min\"}});\n",
              "require([\"roughViz\"], function(roughViz) {\n",
              "\n",
              "new roughViz.BarH(\n",
              "  {\n",
              "    element: \"#\".concat(\"egsoaaitjp\"),\n",
              "    data: {\n",
              "      labels: ['US', 'US', 'US', 'US', 'US', 'US', 'US', 'US', 'US', 'US', 'US', 'US', 'US', 'US', 'US', 'US', 'US', 'US', 'US', 'US', 'US', 'US', 'US', 'US', 'US', 'Spain', 'Spain', 'Spain', 'Spain', 'Spain', 'Spain', 'Spain', 'Spain', 'Spain', 'Spain', 'Spain', 'Italy', 'Italy', 'Spain', 'Italy', 'Spain', 'Italy', 'Spain', 'Italy', 'Spain', 'Italy', 'Italy', 'Italy', 'Italy', 'Italy', 'Spain', 'Italy', 'Spain', 'Italy', 'Spain', 'Italy', 'Spain', 'Italy', 'Spain', 'Italy', 'Spain', 'Italy', 'Italy', 'Spain', 'Spain', 'Italy', 'Spain', 'Italy', 'Spain', 'Italy', 'Italy', 'Italy', 'Italy', 'Italy', 'Italy', 'India', 'India', 'India', 'India', 'India', 'India', 'India', 'India', 'India', 'India', 'India', 'China', 'China', 'China', 'China', 'China', 'China', 'China', 'China', 'China', 'China', 'China', 'China', 'China', 'China', 'China', 'China', 'China', 'China', 'China', 'China', 'China', 'China', 'China', 'China', 'China', 'India', 'India', 'India', 'India', 'India', 'India', 'India', 'India', 'India', 'India', 'India', 'India', 'India', 'India'],\n",
              "      values: [1662302, 1643246, 1622612, 1600937, 1577147, 1551853, 1528568, 1508308, 1486757, 1467820, 1442824, 1417774, 1390406, 1369376, 1347881, 1329260, 1309550, 1283929, 1257023, 1229331, 1204351, 1180375, 1158040, 1132539, 1103461, 235772, 235400, 235290, 234824, 233037, 232555, 232037, 231606, 230698, 230698, 230183, 230158, 229858, 229540, 229327, 228691, 228658, 228030, 228006, 227436, 227364, 226699, 225886, 225435, 224760, 224350, 223885, 223578, 223096, 222857, 222104, 221447, 221216, 220325, 219814, 219329, 219070, 218268, 218011, 217466, 217185, 216582, 215858, 215216, 214457, 213013, 211938, 210717, 209328, 207428, 144950, 138536, 131423, 124794, 118226, 112028, 106475, 100328, 95698, 90648, 85784, 84102, 84095, 84084, 84081, 84063, 84063, 84063, 84063, 84054, 84044, 84038, 84029, 84024, 84018, 84011, 84010, 83990, 83976, 83975, 83970, 83968, 83966, 83964, 83959, 83959, 81997, 78055, 74292, 70768, 67161, 62808, 59695, 56351, 52987, 49400, 46437, 42505, 39699, 37257]\n",
              "    },\n",
              "\taxisFontSize: \"1.5rem\",\n",
              "\taxisRoughness: 0.7,\n",
              "\taxisStrokeWidth: 1.5,\n",
              "\tbowing: 0,\n",
              "\tcolor: \"pink\",\n",
              "\tfillStyle: \"cross-hatch\",\n",
              "\tfillWeight: 0,\n",
              "\tfont: 0,\n",
              "\thighlight: \"gray\",\n",
              "\tinnerStrokeWidth: 0,\n",
              "\tlabelFontSize: \"2rem\",\n",
              "\tpadding: 0.1,\n",
              "\troughness: 0.5,\n",
              "\tsimplification: 0.2,\n",
              "\tstroke: \"black\",\n",
              "\tstrokeWidth: 1,\n",
              "\ttitle: \"\",\n",
              "\ttitleFontSize: \"3rem\",\n",
              "\ttooltipFontSize: \"3rem\",\n",
              "\txLabel: \"\",\n",
              "\tyLabel: \"\",\n",
              "\theight: 400,\n",
              "\twidth: 700,\n",
              "\tinteractive: true\n",
              "  }\n",
              ");\n",
              "\tvar text = document.querySelectorAll(\".xAxisegsoaaitjp .tick text\");\n",
              "\tvar i;\n",
              "\tfor (i = 0; i < text.length; i++) {\n",
              "\t\ttext[i].setAttribute(\"transform\", \"rotate(0)\");\n",
              "\t\ttext[i].style.textAnchor=\"middle\";\n",
              "\t}\n",
              "\tdocument.getElementById(\"egsoaaitjp\").style.height = \"380px\";\n",
              "\tdocument.querySelector(\"#egsoaaitjp svg\").style.height = \"380px\";\n",
              "});\n",
              "</script>\n",
              "\n",
              "</body>\n",
              "</html>"
            ],
            "text/plain": [
              "<IPython.core.display.HTML object>"
            ]
          },
          "metadata": {
            "tags": []
          }
        }
      ]
    },
    {
      "cell_type": "markdown",
      "metadata": {
        "id": "vryZp1nTqNvq",
        "colab_type": "text"
      },
      "source": [
        "### STACKED BAR PLOT"
      ]
    },
    {
      "cell_type": "code",
      "metadata": {
        "id": "MrdkyTlmgD8j",
        "colab_type": "code",
        "colab": {
          "base_uri": "https://localhost:8080/",
          "height": 397
        },
        "outputId": "989ba715-ce67-43ca-e59f-c51e1df2c9a6"
      },
      "source": [
        "roughviz.stackedbar(df4[\"Country\"], df4[[\"Confirmed\",\"Recovered\",\"Deaths\"]], axisRoughness = 0.7, axisStrokeWidth = 0.7, roughness=2.3, highlight=\"gray\")"
      ],
      "execution_count": 160,
      "outputs": [
        {
          "output_type": "display_data",
          "data": {
            "text/html": [
              "<html>\n",
              "<body>\n",
              "\n",
              "<div id=\"evadzhxuun\"></div>\n",
              "\n",
              "<script src=\"https://requirejs.org/docs/release/2.3.6/minified/require.js\"></script>\n",
              "<script>\n",
              "require.config({paths: {roughViz: \"https://unpkg.com/rough-viz@1.0.5/dist/roughviz.min\"}});\n",
              "require([\"roughViz\"], function(roughViz) {\n",
              "\n",
              "new roughViz.StackedBar(\n",
              "  {\n",
              "    element: \"#\".concat(\"evadzhxuun\"),\n",
              "    data: [{'Country': 'US', 'Confirmed': 1662302, 'Recovered': 379157, 'Deaths': 98220}, {'Country': 'US', 'Confirmed': 1643246, 'Recovered': 366736, 'Deaths': 97720}, {'Country': 'US', 'Confirmed': 1622612, 'Recovered': 361239, 'Deaths': 97087}, {'Country': 'US', 'Confirmed': 1600937, 'Recovered': 350135, 'Deaths': 95979}, {'Country': 'US', 'Confirmed': 1577147, 'Recovered': 298418, 'Deaths': 94702}, {'Country': 'US', 'Confirmed': 1551853, 'Recovered': 294312, 'Deaths': 93439}, {'Country': 'US', 'Confirmed': 1528568, 'Recovered': 289392, 'Deaths': 91921}, {'Country': 'US', 'Confirmed': 1508308, 'Recovered': 283178, 'Deaths': 90347}, {'Country': 'US', 'Confirmed': 1486757, 'Recovered': 272265, 'Deaths': 89562}, {'Country': 'US', 'Confirmed': 1467820, 'Recovered': 268376, 'Deaths': 88754}, {'Country': 'US', 'Confirmed': 1442824, 'Recovered': 250747, 'Deaths': 87530}, {'Country': 'US', 'Confirmed': 1417774, 'Recovered': 246414, 'Deaths': 85898}, {'Country': 'US', 'Confirmed': 1390406, 'Recovered': 243430, 'Deaths': 84119}, {'Country': 'US', 'Confirmed': 1369376, 'Recovered': 230287, 'Deaths': 82356}, {'Country': 'US', 'Confirmed': 1347881, 'Recovered': 232733, 'Deaths': 80682}, {'Country': 'US', 'Confirmed': 1329260, 'Recovered': 216169, 'Deaths': 79526}, {'Country': 'US', 'Confirmed': 1309550, 'Recovered': 212534, 'Deaths': 78795}, {'Country': 'US', 'Confirmed': 1283929, 'Recovered': 198993, 'Deaths': 77180}, {'Country': 'US', 'Confirmed': 1257023, 'Recovered': 195036, 'Deaths': 75662}, {'Country': 'US', 'Confirmed': 1229331, 'Recovered': 189910, 'Deaths': 73455}, {'Country': 'US', 'Confirmed': 1204351, 'Recovered': 189791, 'Deaths': 71064}, {'Country': 'US', 'Confirmed': 1180375, 'Recovered': 187180, 'Deaths': 68922}, {'Country': 'US', 'Confirmed': 1158040, 'Recovered': 180152, 'Deaths': 67682}, {'Country': 'US', 'Confirmed': 1132539, 'Recovered': 175382, 'Deaths': 66369}, {'Country': 'US', 'Confirmed': 1103461, 'Recovered': 164015, 'Deaths': 64943}, {'Country': 'Spain', 'Confirmed': 235772, 'Recovered': 150376, 'Deaths': 28752}, {'Country': 'Spain', 'Confirmed': 235400, 'Recovered': 150376, 'Deaths': 26834}, {'Country': 'Spain', 'Confirmed': 235290, 'Recovered': 150376, 'Deaths': 28678}, {'Country': 'Spain', 'Confirmed': 234824, 'Recovered': 150376, 'Deaths': 28628}, {'Country': 'Spain', 'Confirmed': 233037, 'Recovered': 150376, 'Deaths': 27940}, {'Country': 'Spain', 'Confirmed': 232555, 'Recovered': 150376, 'Deaths': 27888}, {'Country': 'Spain', 'Confirmed': 232037, 'Recovered': 150376, 'Deaths': 27778}, {'Country': 'Spain', 'Confirmed': 231606, 'Recovered': 150376, 'Deaths': 27709}, {'Country': 'Spain', 'Confirmed': 230698, 'Recovered': 146446, 'Deaths': 27563}, {'Country': 'Spain', 'Confirmed': 230698, 'Recovered': 146446, 'Deaths': 27563}, {'Country': 'Spain', 'Confirmed': 230183, 'Recovered': 144783, 'Deaths': 27459}, {'Country': 'Italy', 'Confirmed': 230158, 'Recovered': 141981, 'Deaths': 32877}, {'Country': 'Italy', 'Confirmed': 229858, 'Recovered': 140479, 'Deaths': 32785}, {'Country': 'Spain', 'Confirmed': 229540, 'Recovered': 143374, 'Deaths': 27321}, {'Country': 'Italy', 'Confirmed': 229327, 'Recovered': 138840, 'Deaths': 32735}, {'Country': 'Spain', 'Confirmed': 228691, 'Recovered': 140823, 'Deaths': 27104}, {'Country': 'Italy', 'Confirmed': 228658, 'Recovered': 136720, 'Deaths': 32616}, {'Country': 'Spain', 'Confirmed': 228030, 'Recovered': 138980, 'Deaths': 26920}, {'Country': 'Italy', 'Confirmed': 228006, 'Recovered': 134560, 'Deaths': 32486}, {'Country': 'Spain', 'Confirmed': 227436, 'Recovered': 137139, 'Deaths': 26744}, {'Country': 'Italy', 'Confirmed': 227364, 'Recovered': 132282, 'Deaths': 32330}, {'Country': 'Italy', 'Confirmed': 226699, 'Recovered': 129401, 'Deaths': 32169}, {'Country': 'Italy', 'Confirmed': 225886, 'Recovered': 127326, 'Deaths': 32007}, {'Country': 'Italy', 'Confirmed': 225435, 'Recovered': 125176, 'Deaths': 31908}, {'Country': 'Italy', 'Confirmed': 224760, 'Recovered': 122810, 'Deaths': 31763}, {'Country': 'Spain', 'Confirmed': 224350, 'Recovered': 136166, 'Deaths': 26621}, {'Country': 'Italy', 'Confirmed': 223885, 'Recovered': 120205, 'Deaths': 31610}, {'Country': 'Spain', 'Confirmed': 223578, 'Recovered': 133952, 'Deaths': 26478}, {'Country': 'Italy', 'Confirmed': 223096, 'Recovered': 115288, 'Deaths': 31368}, {'Country': 'Spain', 'Confirmed': 222857, 'Recovered': 131148, 'Deaths': 26299}, {'Country': 'Italy', 'Confirmed': 222104, 'Recovered': 112541, 'Deaths': 31106}, {'Country': 'Spain', 'Confirmed': 221447, 'Recovered': 128511, 'Deaths': 26070}, {'Country': 'Italy', 'Confirmed': 221216, 'Recovered': 109039, 'Deaths': 30911}, {'Country': 'Spain', 'Confirmed': 220325, 'Recovered': 126002, 'Deaths': 25857}, {'Country': 'Italy', 'Confirmed': 219814, 'Recovered': 106587, 'Deaths': 30739}, {'Country': 'Spain', 'Confirmed': 219329, 'Recovered': 123486, 'Deaths': 25613}, {'Country': 'Italy', 'Confirmed': 219070, 'Recovered': 105186, 'Deaths': 30560}, {'Country': 'Italy', 'Confirmed': 218268, 'Recovered': 103031, 'Deaths': 30395}, {'Country': 'Spain', 'Confirmed': 218011, 'Recovered': 121343, 'Deaths': 25428}, {'Country': 'Spain', 'Confirmed': 217466, 'Recovered': 118902, 'Deaths': 25264}, {'Country': 'Italy', 'Confirmed': 217185, 'Recovered': 99023, 'Deaths': 30201}, {'Country': 'Spain', 'Confirmed': 216582, 'Recovered': 117248, 'Deaths': 25100}, {'Country': 'Italy', 'Confirmed': 215858, 'Recovered': 96276, 'Deaths': 29958}, {'Country': 'Spain', 'Confirmed': 215216, 'Recovered': 112050, 'Deaths': 24543}, {'Country': 'Italy', 'Confirmed': 214457, 'Recovered': 93245, 'Deaths': 29684}, {'Country': 'Italy', 'Confirmed': 213013, 'Recovered': 85231, 'Deaths': 29315}, {'Country': 'Italy', 'Confirmed': 211938, 'Recovered': 82879, 'Deaths': 29079}, {'Country': 'Italy', 'Confirmed': 210717, 'Recovered': 81654, 'Deaths': 28884}, {'Country': 'Italy', 'Confirmed': 209328, 'Recovered': 79914, 'Deaths': 28710}, {'Country': 'Italy', 'Confirmed': 207428, 'Recovered': 78249, 'Deaths': 28236}, {'Country': 'India', 'Confirmed': 144950, 'Recovered': 60706, 'Deaths': 4172}, {'Country': 'India', 'Confirmed': 138536, 'Recovered': 57692, 'Deaths': 4024}, {'Country': 'India', 'Confirmed': 131423, 'Recovered': 54385, 'Deaths': 3868}, {'Country': 'India', 'Confirmed': 124794, 'Recovered': 51824, 'Deaths': 3726}, {'Country': 'India', 'Confirmed': 118226, 'Recovered': 48553, 'Deaths': 3584}, {'Country': 'India', 'Confirmed': 112028, 'Recovered': 45422, 'Deaths': 3434}, {'Country': 'India', 'Confirmed': 106475, 'Recovered': 42309, 'Deaths': 3302}, {'Country': 'India', 'Confirmed': 100328, 'Recovered': 39233, 'Deaths': 3156}, {'Country': 'India', 'Confirmed': 95698, 'Recovered': 36795, 'Deaths': 3025}, {'Country': 'India', 'Confirmed': 90648, 'Recovered': 34224, 'Deaths': 2871}, {'Country': 'India', 'Confirmed': 85784, 'Recovered': 30258, 'Deaths': 2753}, {'Country': 'China', 'Confirmed': 84102, 'Recovered': 79352, 'Deaths': 4638}, {'Country': 'China', 'Confirmed': 84095, 'Recovered': 79343, 'Deaths': 4638}, {'Country': 'China', 'Confirmed': 84084, 'Recovered': 79335, 'Deaths': 4638}, {'Country': 'China', 'Confirmed': 84081, 'Recovered': 79332, 'Deaths': 4638}, {'Country': 'China', 'Confirmed': 84063, 'Recovered': 79310, 'Deaths': 4638}, {'Country': 'China', 'Confirmed': 84063, 'Recovered': 79310, 'Deaths': 4638}, {'Country': 'China', 'Confirmed': 84063, 'Recovered': 79310, 'Deaths': 4638}, {'Country': 'China', 'Confirmed': 84063, 'Recovered': 79310, 'Deaths': 4638}, {'Country': 'China', 'Confirmed': 84054, 'Recovered': 79306, 'Deaths': 4638}, {'Country': 'China', 'Confirmed': 84044, 'Recovered': 79293, 'Deaths': 4638}, {'Country': 'China', 'Confirmed': 84038, 'Recovered': 79281, 'Deaths': 4637}, {'Country': 'China', 'Confirmed': 84029, 'Recovered': 79261, 'Deaths': 4637}, {'Country': 'China', 'Confirmed': 84024, 'Recovered': 79246, 'Deaths': 4637}, {'Country': 'China', 'Confirmed': 84018, 'Recovered': 79222, 'Deaths': 4637}, {'Country': 'China', 'Confirmed': 84011, 'Recovered': 79198, 'Deaths': 4637}, {'Country': 'China', 'Confirmed': 84010, 'Recovered': 79167, 'Deaths': 4637}, {'Country': 'China', 'Confirmed': 83990, 'Recovered': 79127, 'Deaths': 4637}, {'Country': 'China', 'Confirmed': 83976, 'Recovered': 78993, 'Deaths': 4637}, {'Country': 'China', 'Confirmed': 83975, 'Recovered': 78977, 'Deaths': 4637}, {'Country': 'China', 'Confirmed': 83970, 'Recovered': 78929, 'Deaths': 4637}, {'Country': 'China', 'Confirmed': 83968, 'Recovered': 78870, 'Deaths': 4637}, {'Country': 'China', 'Confirmed': 83966, 'Recovered': 78792, 'Deaths': 4637}, {'Country': 'China', 'Confirmed': 83964, 'Recovered': 78684, 'Deaths': 4637}, {'Country': 'China', 'Confirmed': 83959, 'Recovered': 78586, 'Deaths': 4637}, {'Country': 'China', 'Confirmed': 83959, 'Recovered': 78573, 'Deaths': 4637}, {'Country': 'India', 'Confirmed': 81997, 'Recovered': 27969, 'Deaths': 2649}, {'Country': 'India', 'Confirmed': 78055, 'Recovered': 26400, 'Deaths': 2551}, {'Country': 'India', 'Confirmed': 74292, 'Recovered': 24420, 'Deaths': 2415}, {'Country': 'India', 'Confirmed': 70768, 'Recovered': 22549, 'Deaths': 2294}, {'Country': 'India', 'Confirmed': 67161, 'Recovered': 20969, 'Deaths': 2212}, {'Country': 'India', 'Confirmed': 62808, 'Recovered': 19301, 'Deaths': 2101}, {'Country': 'India', 'Confirmed': 59695, 'Recovered': 17887, 'Deaths': 1985}, {'Country': 'India', 'Confirmed': 56351, 'Recovered': 16776, 'Deaths': 1889}, {'Country': 'India', 'Confirmed': 52987, 'Recovered': 15331, 'Deaths': 1785}, {'Country': 'India', 'Confirmed': 49400, 'Recovered': 14142, 'Deaths': 1693}, {'Country': 'India', 'Confirmed': 46437, 'Recovered': 12847, 'Deaths': 1566}, {'Country': 'India', 'Confirmed': 42505, 'Recovered': 11775, 'Deaths': 1391}, {'Country': 'India', 'Confirmed': 39699, 'Recovered': 10819, 'Deaths': 1323}, {'Country': 'India', 'Confirmed': 37257, 'Recovered': 10007, 'Deaths': 1223}],\n",
              "    labels: \"Country\",\n",
              "\taxisFontSize: \"1.5rem\",\n",
              "\taxisRoughness: 0.7,\n",
              "\taxisStrokeWidth: 0.7,\n",
              "\tbowing: 0,\n",
              "\tcolor: \"skyblue\",\n",
              "\tfillStyle: \"cross-hatch\",\n",
              "\tfillWeight: 0,\n",
              "\tfont: 0,\n",
              "\thighlight: \"gray\",\n",
              "\tinnerStrokeWidth: 0,\n",
              "\tlabelFontSize: \"2rem\",\n",
              "\tpadding: 0.1,\n",
              "\troughness: 2.3,\n",
              "\tsimplification: 0.2,\n",
              "\tstroke: \"black\",\n",
              "\tstrokeWidth: 1,\n",
              "\ttitle: \"\",\n",
              "\ttitleFontSize: \"3rem\",\n",
              "\ttooltipFontSize: \"3rem\",\n",
              "\txLabel: \"\",\n",
              "\tyLabel: \"\",\n",
              "\theight: 400,\n",
              "\twidth: 700,\n",
              "\tinteractive: true\n",
              "  }\n",
              ");\n",
              "\tvar text = document.querySelectorAll(\".xAxisevadzhxuun .tick text\");\n",
              "\tvar i;\n",
              "\tfor (i = 0; i < text.length; i++) {\n",
              "\t\ttext[i].setAttribute(\"transform\", \"rotate(0)\");\n",
              "\t\ttext[i].style.textAnchor=\"middle\";\n",
              "\t}\n",
              "\tdocument.getElementById(\"evadzhxuun\").style.height = \"380px\";\n",
              "\tdocument.querySelector(\"#evadzhxuun svg\").style.height = \"380px\";\n",
              "});\n",
              "</script>\n",
              "\n",
              "</body>\n",
              "</html>"
            ],
            "text/plain": [
              "<IPython.core.display.HTML object>"
            ]
          },
          "metadata": {
            "tags": []
          }
        }
      ]
    },
    {
      "cell_type": "code",
      "metadata": {
        "id": "F7DBAdMAl63Z",
        "colab_type": "code",
        "colab": {}
      },
      "source": [
        ""
      ],
      "execution_count": 0,
      "outputs": []
    },
    {
      "cell_type": "markdown",
      "metadata": {
        "id": "e899OrjJqR11",
        "colab_type": "text"
      },
      "source": [
        "### PIE CHART"
      ]
    },
    {
      "cell_type": "code",
      "metadata": {
        "id": "odcv3lUskLgs",
        "colab_type": "code",
        "colab": {
          "base_uri": "https://localhost:8080/",
          "height": 397
        },
        "outputId": "61f5cb0f-121b-4ecc-d242-055badeee0ba"
      },
      "source": [
        "df_pie=df4[df4['day']==25]\n",
        "roughviz.pie(df_pie[\"Country\"], df_pie[\"Confirmed\"], axisRoughness = 0.7, axisStrokeWidth = 0.7, roughness=2.3, highlight=\"gray\")"
      ],
      "execution_count": 173,
      "outputs": [
        {
          "output_type": "display_data",
          "data": {
            "text/html": [
              "<html>\n",
              "<body>\n",
              "\n",
              "<div id=\"xwncmcflzc\"></div>\n",
              "\n",
              "<script src=\"https://requirejs.org/docs/release/2.3.6/minified/require.js\"></script>\n",
              "<script>\n",
              "require.config({paths: {roughViz: \"https://unpkg.com/rough-viz@1.0.5/dist/roughviz.min\"}});\n",
              "require([\"roughViz\"], function(roughViz) {\n",
              "\n",
              "new roughViz.Pie(\n",
              "  {\n",
              "    element: \"#\".concat(\"xwncmcflzc\"),\n",
              "    data: {\n",
              "      labels: ['US', 'Spain', 'Italy', 'India', 'China'],\n",
              "      values: [1662302, 235400, 230158, 144950, 84102]\n",
              "    },\n",
              "\tbowing: 0,\n",
              "\tfillStyle: \"cross-hatch\",\n",
              "\tfillWeight: 0,\n",
              "\tfont: 0,\n",
              "\thighlight: \"gray\",\n",
              "\tinnerStrokeWidth: 0,\n",
              "\tmargin: {top: 50, right: 20, bottom: 70, left: 100},\n",
              "\troughness: 2.3,\n",
              "\tsimplification: 0.2,\n",
              "\tstrokeWidth: 1,\n",
              "\ttitle: \"\",\n",
              "\ttitleFontSize: \"3rem\",\n",
              "\ttooltipFontSize: \"3rem\",\n",
              "\tinteractive: true\n",
              "  }\n",
              ");\n",
              "\tvar text = document.querySelectorAll(\".xAxisxwncmcflzc .tick text\");\n",
              "\tvar i;\n",
              "\tfor (i = 0; i < text.length; i++) {\n",
              "\t\ttext[i].setAttribute(\"transform\", \"rotate(0)\");\n",
              "\t\ttext[i].style.textAnchor=\"middle\";\n",
              "\t}\n",
              "\tdocument.getElementById(\"xwncmcflzc\").style.height = \"380px\";\n",
              "\tdocument.querySelector(\"#xwncmcflzc svg\").style.height = \"380px\";\n",
              "});\n",
              "</script>\n",
              "\n",
              "</body>\n",
              "</html>"
            ],
            "text/plain": [
              "<IPython.core.display.HTML object>"
            ]
          },
          "metadata": {
            "tags": []
          }
        }
      ]
    },
    {
      "cell_type": "code",
      "metadata": {
        "id": "pesjicl7n0of",
        "colab_type": "code",
        "colab": {}
      },
      "source": [
        ""
      ],
      "execution_count": 0,
      "outputs": []
    },
    {
      "cell_type": "code",
      "metadata": {
        "id": "mQBAUvK1n10K",
        "colab_type": "code",
        "colab": {
          "base_uri": "https://localhost:8080/",
          "height": 196
        },
        "outputId": "7ecf937e-1e57-4fac-a41c-1f547f4b54a4"
      },
      "source": [
        "df_pie"
      ],
      "execution_count": 172,
      "outputs": [
        {
          "output_type": "execute_result",
          "data": {
            "text/html": [
              "<div>\n",
              "<style scoped>\n",
              "    .dataframe tbody tr th:only-of-type {\n",
              "        vertical-align: middle;\n",
              "    }\n",
              "\n",
              "    .dataframe tbody tr th {\n",
              "        vertical-align: top;\n",
              "    }\n",
              "\n",
              "    .dataframe thead th {\n",
              "        text-align: right;\n",
              "    }\n",
              "</style>\n",
              "<table border=\"1\" class=\"dataframe\">\n",
              "  <thead>\n",
              "    <tr style=\"text-align: right;\">\n",
              "      <th></th>\n",
              "      <th>Date</th>\n",
              "      <th>Country</th>\n",
              "      <th>Confirmed</th>\n",
              "      <th>Recovered</th>\n",
              "      <th>Deaths</th>\n",
              "      <th>year</th>\n",
              "      <th>month</th>\n",
              "      <th>day</th>\n",
              "    </tr>\n",
              "  </thead>\n",
              "  <tbody>\n",
              "    <tr>\n",
              "      <th>23486</th>\n",
              "      <td>2020-05-25</td>\n",
              "      <td>US</td>\n",
              "      <td>1662302</td>\n",
              "      <td>379157</td>\n",
              "      <td>98220</td>\n",
              "      <td>2020</td>\n",
              "      <td>5</td>\n",
              "      <td>25</td>\n",
              "    </tr>\n",
              "    <tr>\n",
              "      <th>23470</th>\n",
              "      <td>2020-05-25</td>\n",
              "      <td>Spain</td>\n",
              "      <td>235400</td>\n",
              "      <td>150376</td>\n",
              "      <td>26834</td>\n",
              "      <td>2020</td>\n",
              "      <td>5</td>\n",
              "      <td>25</td>\n",
              "    </tr>\n",
              "    <tr>\n",
              "      <th>23397</th>\n",
              "      <td>2020-05-25</td>\n",
              "      <td>Italy</td>\n",
              "      <td>230158</td>\n",
              "      <td>141981</td>\n",
              "      <td>32877</td>\n",
              "      <td>2020</td>\n",
              "      <td>5</td>\n",
              "      <td>25</td>\n",
              "    </tr>\n",
              "    <tr>\n",
              "      <th>23391</th>\n",
              "      <td>2020-05-25</td>\n",
              "      <td>India</td>\n",
              "      <td>144950</td>\n",
              "      <td>60706</td>\n",
              "      <td>4172</td>\n",
              "      <td>2020</td>\n",
              "      <td>5</td>\n",
              "      <td>25</td>\n",
              "    </tr>\n",
              "    <tr>\n",
              "      <th>23348</th>\n",
              "      <td>2020-05-25</td>\n",
              "      <td>China</td>\n",
              "      <td>84102</td>\n",
              "      <td>79352</td>\n",
              "      <td>4638</td>\n",
              "      <td>2020</td>\n",
              "      <td>5</td>\n",
              "      <td>25</td>\n",
              "    </tr>\n",
              "  </tbody>\n",
              "</table>\n",
              "</div>"
            ],
            "text/plain": [
              "             Date Country  Confirmed  Recovered  Deaths  year  month  day\n",
              "23486  2020-05-25      US    1662302     379157   98220  2020      5   25\n",
              "23470  2020-05-25   Spain     235400     150376   26834  2020      5   25\n",
              "23397  2020-05-25   Italy     230158     141981   32877  2020      5   25\n",
              "23391  2020-05-25   India     144950      60706    4172  2020      5   25\n",
              "23348  2020-05-25   China      84102      79352    4638  2020      5   25"
            ]
          },
          "metadata": {
            "tags": []
          },
          "execution_count": 172
        }
      ]
    },
    {
      "cell_type": "code",
      "metadata": {
        "id": "Zzvl_HIdoPq9",
        "colab_type": "code",
        "colab": {}
      },
      "source": [
        ""
      ],
      "execution_count": 0,
      "outputs": []
    }
  ]
}